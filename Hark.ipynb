{
 "cells": [
  {
   "cell_type": "code",
   "execution_count": 1,
   "metadata": {
    "collapsed": false
   },
   "outputs": [
    {
     "name": "stdout",
     "output_type": "stream",
     "text": [
      "Populating the interactive namespace from numpy and matplotlib\n"
     ]
    }
   ],
   "source": [
    "#make sure plots are embedded into the notebook\n",
    "%pylab inline "
   ]
  },
  {
   "cell_type": "code",
   "execution_count": 2,
   "metadata": {
    "collapsed": false
   },
   "outputs": [
    {
     "name": "stderr",
     "output_type": "stream",
     "text": [
      "VERBOSE:pywiki:Starting 1 threads...\n"
     ]
    },
    {
     "name": "stdout",
     "output_type": "stream",
     "text": [
      "WARNING: Configuration variable 'use_api_login' is defined but unknown.\n",
      "Misspelled?\n",
      "WARNING: Running on Windows and transliteration_target is not set.\n",
      "Please see https://www.mediawiki.org/wiki/Special:MyLanguage/Manual:Pywikibot/Windows\n",
      "WARNING: family and mylang are not set.\n",
      "Defaulting to family='test' and mylang='test'.\n"
     ]
    }
   ],
   "source": [
    "import pywikibot as pwb\n",
    "import pandas as pd\n",
    "import networkx as nx\n",
    "import operator\n",
    "import pylab as pl\n",
    "\n",
    "# Make plots prettyful\n",
    "pl.style.use('fivethirtyeight')\n",
    "\n",
    "from networkx.algorithms import approximation as approx\n",
    "import itertools"
   ]
  },
  {
   "cell_type": "code",
   "execution_count": 3,
   "metadata": {
    "collapsed": true
   },
   "outputs": [],
   "source": [
    "cities = pd.read_csv('cities.csv')"
   ]
  },
  {
   "cell_type": "code",
   "execution_count": 4,
   "metadata": {
    "collapsed": true
   },
   "outputs": [],
   "source": [
    "subset25 = cities[cities['en'].isin([\n",
    "    u'Shanghai',\n",
    "    u'Istanbul',\n",
    "    u'Tokyo',\n",
    "    u'Moscow',\n",
    "    u'New York City'\n",
    "])][['en','zh','tr','ja','ru']]"
   ]
  },
  {
   "cell_type": "code",
   "execution_count": 5,
   "metadata": {
    "collapsed": false
   },
   "outputs": [
    {
     "data": {
      "text/html": [
       "<div>\n",
       "<table border=\"1\" class=\"dataframe\">\n",
       "  <thead>\n",
       "    <tr style=\"text-align: right;\">\n",
       "      <th></th>\n",
       "      <th>en</th>\n",
       "      <th>zh</th>\n",
       "      <th>tr</th>\n",
       "      <th>ja</th>\n",
       "      <th>ru</th>\n",
       "    </tr>\n",
       "  </thead>\n",
       "  <tbody>\n",
       "    <tr>\n",
       "      <th>0</th>\n",
       "      <td>Shanghai</td>\n",
       "      <td>上海市</td>\n",
       "      <td>Şanghay</td>\n",
       "      <td>上海市</td>\n",
       "      <td>Шанхай</td>\n",
       "    </tr>\n",
       "    <tr>\n",
       "      <th>4</th>\n",
       "      <td>Istanbul</td>\n",
       "      <td>伊斯坦堡</td>\n",
       "      <td>İstanbul</td>\n",
       "      <td>イスタンブル</td>\n",
       "      <td>Стамбул</td>\n",
       "    </tr>\n",
       "    <tr>\n",
       "      <th>5</th>\n",
       "      <td>Tokyo</td>\n",
       "      <td>東京都</td>\n",
       "      <td>Tokyo</td>\n",
       "      <td>東京都</td>\n",
       "      <td>Токио</td>\n",
       "    </tr>\n",
       "    <tr>\n",
       "      <th>9</th>\n",
       "      <td>Moscow</td>\n",
       "      <td>莫斯科</td>\n",
       "      <td>Moskova</td>\n",
       "      <td>モスクワ</td>\n",
       "      <td>Москва</td>\n",
       "    </tr>\n",
       "    <tr>\n",
       "      <th>20</th>\n",
       "      <td>New York City</td>\n",
       "      <td>纽约</td>\n",
       "      <td>New York</td>\n",
       "      <td>ニューヨーク</td>\n",
       "      <td>Нью-Йорк</td>\n",
       "    </tr>\n",
       "  </tbody>\n",
       "</table>\n",
       "</div>"
      ],
      "text/plain": [
       "               en    zh        tr      ja        ru\n",
       "0        Shanghai   上海市   Şanghay     上海市    Шанхай\n",
       "4        Istanbul  伊斯坦堡  İstanbul  イスタンブル   Стамбул\n",
       "5           Tokyo   東京都     Tokyo     東京都     Токио\n",
       "9          Moscow   莫斯科   Moskova    モスクワ    Москва\n",
       "20  New York City    纽约  New York  ニューヨーク  Нью-Йорк"
      ]
     },
     "execution_count": 5,
     "metadata": {},
     "output_type": "execute_result"
    }
   ],
   "source": [
    "subset25"
   ]
  },
  {
   "cell_type": "code",
   "execution_count": 6,
   "metadata": {
    "collapsed": true
   },
   "outputs": [],
   "source": [
    "def translate(site,title):\n",
    "    page = pwb.Page(site, title)\n",
    "\n",
    "    for link in page.iterlanglinks():\n",
    "        if link.site.code == 'en':\n",
    "            return link.title\n",
    "        \n",
    "    return title"
   ]
  },
  {
   "cell_type": "code",
   "execution_count": 7,
   "metadata": {
    "collapsed": false
   },
   "outputs": [],
   "source": [
    "tr = nx.read_gpickle('tr25.pickle')"
   ]
  },
  {
   "cell_type": "code",
   "execution_count": 7,
   "metadata": {
    "collapsed": false
   },
   "outputs": [
    {
     "name": "stdout",
     "output_type": "stream",
     "text": [
      "87499 350906\n"
     ]
    }
   ],
   "source": [
    "print len(tr), tr.size()"
   ]
  },
  {
   "cell_type": "code",
   "execution_count": 11,
   "metadata": {
    "collapsed": true
   },
   "outputs": [],
   "source": [
    "trc = nx.eigenvector_centrality_numpy(tr)"
   ]
  },
  {
   "cell_type": "code",
   "execution_count": 14,
   "metadata": {
    "collapsed": false
   },
   "outputs": [],
   "source": [
    "sorted_trc = sorted(trc.items(), key=operator.itemgetter(1))"
   ]
  },
  {
   "cell_type": "code",
   "execution_count": 18,
   "metadata": {
    "collapsed": false
   },
   "outputs": [
    {
     "name": "stdout",
     "output_type": "stream",
     "text": [
      "Moskova: 0.0688587995941\n",
      "İstanbul: 0.0667618858395\n",
      "Birleşik Krallık: 0.0654506007362\n",
      "Paris: 0.0652992490041\n",
      "Madrid: 0.0651918932995\n",
      "Londra: 0.06518091313\n",
      "Eurovision Şarkı Yarışması: 0.0648772415423\n",
      "Almanya: 0.0647208479725\n",
      "Fransa: 0.0640836768745\n",
      "Atina: 0.0635004370139\n",
      "Kopenhag: 0.0633433937746\n",
      "Dublin: 0.0631226224037\n",
      "Helsinki: 0.0630109788583\n",
      "Bakü: 0.0629902420088\n",
      "Brüksel: 0.062938361882\n",
      "Tallinn: 0.0629318727709\n",
      "Amsterdam: 0.0627221840743\n",
      "Riga: 0.0626405825734\n",
      "İsveç: 0.0626048133564\n",
      "Kiev: 0.0623453080646\n",
      "Lüksemburg (şehir): 0.0622910682091\n",
      "Belgrad: 0.0620206624056\n",
      "Viyana: 0.0619106656771\n",
      "Eurovision Şarkı Yarışması'nda Avusturya: 0.0617779276856\n",
      "Eurovision Şarkı Yarışması'nda Türkiye: 0.0617779276856\n",
      "Eurovision Şarkı Yarışması'nda Birleşik Krallık: 0.0617743077371\n",
      "Stockholm: 0.0617724916486\n",
      "Eurovision Şarkı Yarışması'nda İrlanda: 0.0617711923861\n",
      "Kudüs: 0.061771152635\n",
      "Oslo: 0.0616823165376\n",
      "Zagreb: 0.061673011673\n",
      "Roma: 0.0616728996369\n",
      "Eurovision Şarkı Yarışması'nda Finlandiya: 0.0614649730442\n",
      "Eurovision Şarkı Yarışması'nda Belçika: 0.0614649730442\n",
      "Eurovision Şarkı Yarışması'nda Hollanda: 0.061463040801\n",
      "Eurovision Şarkı Yarışması'nda İspanya: 0.061463040801\n",
      "Eurovision Şarkı Yarışması'nda İsviçre: 0.061463040801\n",
      "Eurovision Şarkı Yarışması'nda Fransa: 0.061463040801\n",
      "Eurovision Şarkı Yarışması'nda Norveç: 0.061463040801\n",
      "Eurovision Şarkı Yarışması'nda İsveç: 0.061463040801\n",
      "Eurovision Şarkı Yarışması'nda Yunanistan: 0.0611517650479\n",
      "Eurovision Şarkı Yarışması'nda Portekiz: 0.0611517650479\n",
      "Eurovision Şarkı Yarışması'nda Polonya: 0.0611486496969\n",
      "Eurovision Şarkı Yarışması'nda Slovenya: 0.0611486496969\n",
      "Eurovision Şarkı Yarışması'nda Almanya: 0.0611484333721\n",
      "Eurovision Şarkı Yarışması'nda Danimarka: 0.0611484333721\n",
      "Eurovision Şarkı Yarışması'nda Rusya: 0.0611453180211\n",
      "Eurovision Şarkı Yarışması'nda Estonya: 0.0611450385655\n",
      "Eurovision Şarkı Yarışması'nda Malta: 0.0611450385655\n",
      "Eurovision Şarkı Yarışması'nda İzlanda: 0.0611450385655\n",
      "Eurovision Şarkı Yarışması'nda Hırvatistan: 0.0611450385655\n",
      "Eurovision Şarkı Yarışması'nda İsrail: 0.0608354787306\n",
      "Eurovision Şarkı Yarışması'nda Bosna-Hersek: 0.0608337628123\n",
      "Türkiye: 0.06081388065\n",
      "Eurovision Şarkı Yarışması'nda İtalya: 0.0605257884482\n",
      "Eurovision Şarkı Yarışması'nda Kıbrıs Cumhuriyeti: 0.0605226730972\n",
      "Eurovision Şarkı Yarışması'nda Macaristan: 0.0605226730972\n",
      "Eurovision Şarkı Yarışması'nda Letonya: 0.0605174764951\n",
      "Eurovision Şarkı Yarışması'nda Romanya: 0.0605174764951\n",
      "Eurovision Şarkı Yarışması'nda Ermenistan: 0.0602097184557\n",
      "Eurovision Şarkı Yarışması'nda Beyaz Rusya: 0.0602097184557\n",
      "Eurovision Şarkı Yarışması'nda Ukrayna: 0.0602097184557\n",
      "Eurovision Şarkı Yarışması'nda Arnavutluk: 0.0602097184557\n",
      "Eurovision Şarkı Yarışması'nda Bulgaristan: 0.0602097184557\n",
      "Eurovision Şarkı Yarışması'nda Slovakya: 0.0602094390001\n",
      "Eurovision Şarkı Yarışması'nda Litvanya: 0.0602062007419\n",
      "1983 Eurovision Şarkı Yarışması: 0.0599085448857\n",
      "Eurovision Şarkı Yarışması'nda Lüksemburg: 0.0599015580536\n",
      "Eurovision Şarkı Yarışması'nda Yugoslavya: 0.0599015580536\n",
      "Eurovision Şarkı Yarışması'nda Sırbistan-Karadağ: 0.0598984427026\n",
      "Eurovision Şarkı Yarışması'nda Monako: 0.0598984427026\n",
      "Eurovision Şarkı Yarışması'nda Andorra: 0.0598984427026\n",
      "Eurovision Şarkı Yarışması'nda Sırbistan: 0.0598948315712\n",
      "Eurovision Şarkı Yarışması'nda San Marino: 0.0598948315712\n",
      "Eurovision Şarkı Yarışması'nda Makedonya Cumhuriyeti: 0.0598948315712\n",
      "Eurovision Şarkı Yarışması'nda Moldova: 0.0598948315712\n",
      "Eurovision Şarkı Yarışması'nda Azerbaycan: 0.0598948315712\n",
      "Eurovision Şarkı Yarışması'nda Gürcistan: 0.0598948315712\n",
      "Frankfurt: 0.0598522467895\n",
      "Bergen, Norveç: 0.0596302185384\n",
      "2001 Eurovision Şarkı Yarışması: 0.0596045458034\n",
      "1982 Eurovision Şarkı Yarışması: 0.0595972691326\n",
      "2005 Eurovision Şarkı Yarışması: 0.0595837908608\n",
      "Eurovision Şarkı Yarışması'nda Karadağ: 0.059583555818\n",
      "Eurovision Şarkı Yarışması'nda Fas: 0.059583555818\n",
      "Eurovision Şarkı Yarışması'nda Çek Cumhuriyeti: 0.059583555818\n",
      "Düsseldorf: 0.0595247704936\n",
      "Münih: 0.0594759172633\n",
      "Napoli: 0.0594271743084\n",
      "2006 Eurovision Şarkı Yarışması: 0.0593216429009\n",
      "1981 Eurovision Şarkı Yarışması: 0.0592792272815\n",
      "2003 Eurovision Şarkı Yarışması: 0.0592791288491\n",
      "1996 Eurovision Şarkı Yarışması: 0.0592689961611\n",
      "1999 Eurovision Şarkı Yarışması: 0.0592675033108\n",
      "2009 Eurovision Şarkı Yarışması: 0.0592661317217\n",
      "Malmö: 0.0591756499259\n",
      "Lahey: 0.0590919842349\n",
      "Birmingham: 0.0590352098188\n",
      "1984 Eurovision Şarkı Yarışması: 0.058966032304\n",
      "1991 Eurovision Şarkı Yarışması: 0.058962916953\n"
     ]
    }
   ],
   "source": [
    "for name,i in sorted_trc[-100:][::-1]:\n",
    "    print name+':',i"
   ]
  },
  {
   "cell_type": "code",
   "execution_count": 4,
   "metadata": {
    "collapsed": false
   },
   "outputs": [
    {
     "name": "stdout",
     "output_type": "stream",
     "text": [
      "235664 879240\n",
      "上海市: 0.0606558575116\n",
      "中华人民共和国: 0.056881412263\n",
      "浦东新区: 0.0507346663677\n",
      "静安区: 0.0496846020723\n",
      "奉贤区: 0.0496102681984\n",
      "闵行区: 0.0492256059748\n",
      "松江区: 0.0491735051418\n",
      "嘉定区: 0.0491202957754\n",
      "黄浦区: 0.0491190011586\n",
      "长宁区: 0.0491070554474\n",
      "青浦区: 0.0490834851524\n",
      "徐汇区: 0.0489854479051\n",
      "金山区 (上海市): 0.0486836510409\n",
      "国家级经济技术开发区: 0.0482378727138\n",
      "宝山区 (上海市): 0.0476399269673\n",
      "崇明县: 0.0475592831873\n",
      "杨浦区: 0.0474114871036\n",
      "闸北区: 0.0472568875189\n",
      "普陀区 (上海市): 0.0472320356238\n",
      "中华人民共和国国家级自然保护区列表: 0.0471507815937\n",
      "虹口区: 0.0471184926793\n",
      "开发区: 0.0467477119952\n",
      "辰山 (松江): 0.0461628290847\n",
      "黄浦江: 0.0460561248802\n",
      "东平国家森林公园: 0.0460522344077\n",
      "上海海湾国家森林公园: 0.0460242054018\n",
      "上海迪士尼度假區: 0.0460146715885\n",
      "佘山: 0.0460093679984\n",
      "天马山: 0.0459692573828\n",
      "杭州湾: 0.0459597344914\n",
      "上海中山公园: 0.045953769596\n",
      "徐家汇: 0.045919035521\n",
      "吴淞区: 0.0459071484748\n",
      "中华人民共和国国际重要湿地列表: 0.0458842753831\n",
      "国家重点保护湿地名录: 0.0458842753831\n",
      "吴淞江: 0.0458807595295\n",
      "上海石化: 0.0458550545196\n",
      "地形: 0.0458505911099\n",
      "上海宝钢集团: 0.0458481012427\n",
      "东滩: 0.0458445954502\n",
      "地貌: 0.0458415929407\n",
      "崇明岛: 0.0458055667767\n",
      "自然保护区: 0.0457808556067\n",
      "衛星城市: 0.0457212264803\n",
      "外滩: 0.045719351851\n",
      "横沙岛: 0.0456419083668\n",
      "中国（上海）自由贸易试验区: 0.0456037115349\n",
      "南京东路 (上海): 0.0456003349702\n",
      "闵行经济技术开发区: 0.0455930582514\n",
      "虹桥经济技术开发区: 0.0455930582514\n",
      "中心商务区: 0.0455527901097\n",
      "急水港: 0.0455367501796\n",
      "大莲湖: 0.0455367501796\n",
      "人民广场 (上海): 0.0455075053129\n",
      "中级人民法院: 0.0454645030621\n",
      "上海站: 0.0454644696775\n",
      "地震帶: 0.0454621416436\n",
      "淀山湖: 0.0454610220454\n",
      "高桥镇 (上海市): 0.0454431948847\n",
      "上海金桥经济技术开发区: 0.0454327211153\n",
      "九段沙: 0.0454260579575\n",
      "长兴岛 (上海): 0.0453896471002\n",
      "天山路街道 (上海市): 0.0453868236123\n",
      "新泾镇: 0.0453868236123\n",
      "虹桥街道 (上海市): 0.0453868236123\n",
      "周家桥街道: 0.0453868236123\n",
      "东风西沙: 0.0453858481725\n",
      "上海浦东国际机场: 0.045377704635\n",
      "杭申线: 0.0453679336167\n",
      "工業區: 0.0453674792478\n",
      "大宁路街道: 0.0453671942815\n",
      "北站街道 (上海市): 0.0453671942815\n",
      "曹家渡: 0.0453534366632\n",
      "油墩港: 0.0453529752069\n",
      "金汇港: 0.0453529752069\n",
      "上海市第二中级人民法院: 0.0453463795689\n",
      "上海市第一中级人民法院: 0.0453463795689\n",
      "滨海平原: 0.0453402099357\n",
      "金山三岛海洋生态自然保护区: 0.0453332411081\n",
      "浦东运河: 0.0453322785908\n",
      "川沙新镇: 0.045326511507\n",
      "胥浦塘: 0.04532568859\n",
      "新市镇: 0.0453245834758\n",
      "练塘工业区（北区）: 0.0453224412135\n",
      "宝钢水库水鸟栖息地: 0.0453224412135\n",
      "外高桥港区: 0.0453224412135\n",
      "枫泾国际商务区: 0.0453224412135\n",
      "廊下城镇工业地块: 0.0453224412135\n",
      "金汇工业园区: 0.0453224412135\n",
      "上海市莘庄工业园区: 0.0453224412135\n",
      "上海月杨工业园区: 0.0453224412135\n",
      "上海松江经济开发区: 0.0453224412135\n",
      "三甲港地热: 0.0453224412135\n",
      "青浦出口加工区: 0.0453224412135\n",
      "高桥工业区: 0.0453224412135\n",
      "练塘港区: 0.0453224412135\n",
      "张网港港区: 0.0453224412135\n",
      "外冈港区: 0.0453224412135\n",
      "上海朱泾工业园区: 0.0453224412135\n",
      "周家渡工业区: 0.0453224412135\n"
     ]
    }
   ],
   "source": [
    "zh = nx.read_gpickle('zh25.pickle')\n",
    "print len(zh), zh.size()\n",
    "zhc = nx.eigenvector_centrality_numpy(zh)\n",
    "sorted_zhc = sorted(zhc.items(), key=operator.itemgetter(1))\n",
    "for name,i in sorted_zhc[-100:][::-1]:\n",
    "    print name+':',i"
   ]
  },
  {
   "cell_type": "code",
   "execution_count": 5,
   "metadata": {
    "collapsed": true
   },
   "outputs": [],
   "source": [
    "zhsite = pwb.Site('zh', 'wikipedia')"
   ]
  },
  {
   "cell_type": "code",
   "execution_count": 11,
   "metadata": {
    "collapsed": true
   },
   "outputs": [],
   "source": [
    "page = pwb.Page(zhsite, u'上海市')"
   ]
  },
  {
   "cell_type": "code",
   "execution_count": 17,
   "metadata": {
    "collapsed": false
   },
   "outputs": [
    {
     "name": "stdout",
     "output_type": "stream",
     "text": [
      "Shanghai: 0.0606558575116\n",
      "China: 0.056881412263\n",
      "Pudong: 0.0507346663677\n",
      "Jing'an District: 0.0496846020723\n",
      "Fengxian District: 0.0496102681984\n",
      "Minhang District: 0.0492256059748\n",
      "Songjiang District: 0.0491735051418\n",
      "Jiading District: 0.0491202957754\n",
      "Huangpu District, Shanghai: 0.0491190011586\n",
      "Changning District: 0.0491070554474\n",
      "Qingpu District, Shanghai: 0.0490834851524\n",
      "Xuhui District: 0.0489854479051\n",
      "Jinshan District: 0.0486836510409\n",
      "Economic and Technological Development Zones: 0.0482378727138\n",
      "Baoshan District, Shanghai: 0.0476399269673\n",
      "Chongming County: 0.0475592831873\n",
      "Yangpu District: 0.0474114871036\n",
      "Zhabei District: 0.0472568875189\n",
      "Putuo District, Shanghai: 0.0472320356238\n",
      "List of protected areas of China: 0.0471507815937\n",
      "Hongkou District: 0.0471184926793\n",
      "开发区: 0.0467477119952\n",
      "辰山 (松江): 0.0461628290847\n",
      "Huangpu River: 0.0460561248802\n",
      "Dongping National Forest Park: 0.0460522344077\n",
      "上海海湾国家森林公园: 0.0460242054018\n",
      "Shanghai Disney Resort: 0.0460146715885\n",
      "Sheshan Hill: 0.0460093679984\n",
      "天马山: 0.0459692573828\n",
      "Hangzhou Bay: 0.0459597344914\n",
      "Zhongshan Park (Shanghai): 0.045953769596\n",
      "Xujiahui: 0.045919035521\n",
      "吴淞区: 0.0459071484748\n",
      "中华人民共和国国际重要湿地列表: 0.0458842753831\n",
      "国家重点保护湿地名录: 0.0458842753831\n",
      "Suzhou Creek: 0.0458807595295\n",
      "Shanghai Petrochemical: 0.0458550545196\n",
      "Landform: 0.0458505911099\n",
      "Baosteel: 0.0458481012427\n",
      "Dongtan: 0.0458445954502\n",
      "地貌: 0.0458415929407\n",
      "Chongming Island: 0.0458055667767\n",
      "Nature reserve: 0.0457808556067\n",
      "Satellite town: 0.0457212264803\n",
      "外滩: 0.045719351851\n",
      "Hengsha Island: 0.0456419083668\n",
      "Shanghai Free-Trade Zone: 0.0456037115349\n",
      "南京东路 (上海): 0.0456003349702\n",
      "闵行经济技术开发区: 0.0455930582514\n",
      "虹桥经济技术开发区: 0.0455930582514\n",
      "Central business district: 0.0455527901097\n",
      "急水港: 0.0455367501796\n",
      "大莲湖: 0.0455367501796\n",
      "People's Square: 0.0455075053129\n",
      "Intermediate people's court: 0.0454645030621\n",
      "Shanghai Railway Station: 0.0454644696775\n",
      "地震帶: 0.0454621416436\n",
      "Dianshan Lake: 0.0454610220454\n",
      "Gaoqiao, Shanghai: 0.0454431948847\n",
      "上海金桥经济技术开发区: 0.0454327211153\n",
      "Jiuduansha:"
     ]
    },
    {
     "name": "stderr",
     "output_type": "stream",
     "text": [
      "VERBOSE:pywiki:Found 1 wikipedia:zh processes running, including this one.\n"
     ]
    },
    {
     "name": "stdout",
     "output_type": "stream",
     "text": [
      " 0.0454260579575\n",
      "长兴岛 (上海): 0.0453896471002\n",
      "天山路街道 (上海市): 0.0453868236123\n",
      "新泾镇: 0.0453868236123\n",
      "Hongqiao Subdistrict, Shanghai: 0.0453868236123\n",
      "周家桥街道: 0.0453868236123\n",
      "东风西沙: 0.0453858481725\n",
      "Shanghai Pudong International Airport: 0.045377704635\n",
      "杭申线: 0.0453679336167\n",
      "Industrial district: 0.0453674792478\n",
      "大宁路街道: 0.0453671942815\n",
      "北站街道 (上海市): 0.0453671942815\n",
      "曹家渡: 0.0453534366632\n",
      "油墩港: 0.0453529752069\n",
      "金汇港: 0.0453529752069\n",
      "上海市第二中级人民法院: 0.0453463795689\n",
      "上海市第一中级人民法院: 0.0453463795689\n",
      "滨海平原: 0.0453402099357\n",
      "金山三岛海洋生态自然保护区: 0.0453332411081\n",
      "浦东运河: 0.0453322785908\n",
      "川沙新镇: 0.045326511507\n",
      "胥浦塘: 0.04532568859\n",
      "新市镇: 0.0453245834758\n",
      "练塘工业区（北区）: 0.0453224412135\n",
      "宝钢水库水鸟栖息地: 0.0453224412135\n",
      "外高桥港区: 0.0453224412135\n",
      "枫泾国际商务区: 0.0453224412135\n",
      "廊下城镇工业地块: 0.0453224412135\n",
      "金汇工业园区: 0.0453224412135\n",
      "上海市莘庄工业园区: 0.0453224412135\n",
      "上海月杨工业园区: 0.0453224412135\n",
      "上海松江经济开发区: 0.0453224412135\n",
      "三甲港地热: 0.0453224412135\n",
      "青浦出口加工区: 0.0453224412135\n",
      "高桥工业区: 0.0453224412135\n",
      "练塘港区: 0.0453224412135\n",
      "张网港港区: 0.0453224412135\n",
      "外冈港区: 0.0453224412135\n",
      "上海朱泾工业园区: 0.0453224412135\n",
      "周家渡工业区: 0.0453224412135\n"
     ]
    }
   ],
   "source": [
    "for name,i in sorted_zhc[-100:][::-1]:\n",
    "    print translate(zhsite,name)+':',i"
   ]
  },
  {
   "cell_type": "code",
   "execution_count": 7,
   "metadata": {
    "collapsed": false
   },
   "outputs": [
    {
     "name": "stdout",
     "output_type": "stream",
     "text": [
      "247707 812335\n",
      "アメリカ合衆国: 0.125653882051\n",
      "ニューヨーク: 0.0942028939488\n",
      "英語: 0.0879552750939\n",
      "ニューヨーク州: 0.0868447145552\n",
      "2010年: 0.0767340918821\n",
      "マンハッタン: 0.0751761899726\n",
      "夏時間: 0.0740269750931\n",
      "オールバニ (ニューヨーク州): 0.0739551329771\n",
      "2000年: 0.0739372009222\n",
      "平方キロメートル: 0.0735365888958\n",
      "ロックランド郡 (ニューヨーク州): 0.0729689583816\n",
      "ブルックリン区: 0.0728227766329\n",
      "クイーンズ区: 0.0726183986465\n",
      "ニューヨーク都市圏: 0.0725144975229\n",
      "スタテンアイランド: 0.0723551828689\n",
      "ブロンクス区: 0.0721523021421\n",
      "ダッチェス郡 (ニューヨーク州): 0.0721241096946\n",
      "ポキプシー (ニューヨーク州の町): 0.0720887820227\n",
      "ロングアイランド: 0.0720855786901\n",
      "ポキプシー (ニューヨーク州の市): 0.0720647243553\n",
      "アルゲイニー台地: 0.071995876225\n",
      "サラトガ (ニューヨーク州): 0.0719777917838\n",
      "バッファロー (ニューヨーク州): 0.0719417222742\n",
      "ニューヨーク州知事: 0.0717399888526\n",
      "キャッツキル山地: 0.0716023298725\n",
      "ロチェスター (ニューヨーク州): 0.0715714789865\n",
      "オレンジ郡 (ニューヨーク州): 0.0715629594526\n",
      "キングストン (ニューヨーク州): 0.0715230370714\n",
      "サラトガスプリング: 0.0714959371416\n",
      "ニューヨーク州の郡一覧: 0.0714906006062\n",
      "アルスター郡 (ニューヨーク州): 0.0714862077504\n",
      "サラトガ郡 (ニューヨーク州): 0.0714530021211\n",
      "ハベストロー: 0.0714485162687\n",
      "ランシング町 (ニューヨーク州): 0.0714485162687\n",
      "トンプキンス郡 (ニューヨーク州): 0.0714485162687\n",
      "ハイランズ (ニューヨーク州): 0.0714485162687\n",
      "フィンガーレイクス: 0.0714485162687\n",
      "ウォータータウン: 0.0714485162687\n",
      "ウッドストック (ニューヨーク州): 0.0714485162687\n",
      "ウエストチェスター郡 (ニューヨーク州): 0.0713720492662\n",
      "ニューヨーク州の歴史: 0.071285359216\n",
      "ホワイト・プレインズ (ニューヨーク州): 0.0712786974949\n",
      "シラキュース (ニューヨーク州): 0.0712028731196\n",
      "アディロンダック山地: 0.0712028184965\n",
      "トロイ (ニューヨーク州): 0.0711227630142\n",
      "セントローレンス海路: 0.0710648516505\n",
      "ビンガムトン: 0.0710439450867\n",
      "ナイアガラフォールズ (ニューヨーク州): 0.0710386231164\n",
      "ヨンカーズ: 0.0709926750818\n",
      "ユーティカ (ニューヨーク州): 0.0709906479496\n",
      "ロックポート (ニューヨーク州): 0.0709847588177\n",
      "ローム (ニューヨーク州): 0.0709847588177\n",
      "バタビア (ニューヨーク州): 0.0709847588177\n",
      "カナンデイグア (ニューヨーク州): 0.0709847588177\n",
      "人口密度: 0.0709606522312\n",
      "ナッソー郡 (ニューヨーク州): 0.070958702932\n",
      "サフォーク郡 (ニューヨーク州): 0.070927232867\n",
      "ニューバーグ: 0.0709019271322\n",
      "ニューロシェル: 0.0708946418372\n",
      "パットナム郡 (ニューヨーク州): 0.0708898652931\n",
      "ヘムステッド (ニューヨーク州): 0.0708750218668\n",
      "サリバン郡 (ニューヨーク州): 0.0708686366955\n",
      "コロンビア郡 (ニューヨーク州): 0.0708674469522\n",
      "アップステート・ニューヨーク: 0.0708640088824\n",
      "オーバーン (ニューヨーク州): 0.0708429573733\n",
      "リバーヘッド (ニューヨーク州): 0.0708429573733\n",
      "オスウェゴ郡 (ニューヨーク州): 0.0708429573733\n",
      "ブルーム郡 (ニューヨーク州): 0.0708429573733\n",
      "グレンズフォールズ (ニューヨーク州): 0.0708429573733\n",
      "ジェファーソン郡 (ニューヨーク州): 0.0708429573733\n",
      "オンタリオ郡 (ニューヨーク州): 0.0708429573733\n",
      "スケネクタディ郡 (ニューヨーク州): 0.0708429573733\n",
      "ニューヨーク州出身の人物一覧: 0.0708429573733\n",
      "クイーンズベリー (ニューヨーク州): 0.0708429573733\n",
      "デラウェア郡 (ニューヨーク州): 0.0708429573733\n",
      "ウェイン郡 (ニューヨーク州): 0.0708429573733\n",
      "マウントバーノン (ニューヨーク州): 0.0708429573733\n",
      "プラッツバーグ (ニューヨーク州): 0.0708429573733\n",
      "ミドルタウン (ニューヨーク州オレンジ郡): 0.0708429573733\n",
      "クラークスタウン (ニューヨーク州): 0.0708429573733\n",
      "カタラウガス郡 (ニューヨーク州): 0.0708429573733\n",
      "スチューベン郡 (ニューヨーク州): 0.0708429573733\n",
      "グリーン郡 (ニューヨーク州): 0.0708429573733\n",
      "エリー郡 (ニューヨーク州): 0.0708429573733\n",
      "セントローレンス郡 (ニューヨーク州): 0.0708429573733\n",
      "アムハースト (ニューヨーク州): 0.0708429573733\n",
      "ロングビーチ (ニューヨーク州): 0.0708429573733\n",
      "ジェームズタウン (ニューヨーク州): 0.0708429573733\n",
      "マディソン郡 (ニューヨーク州): 0.0708429573733\n",
      "カユガ郡 (ニューヨーク州): 0.0708429573733\n",
      "コートランド (ニューヨーク州): 0.0708429573733\n",
      "グレンコーブ (ニューヨーク州): 0.0708429573733\n",
      "シェマング郡 (ニューヨーク州): 0.0708429573733\n",
      "モンロー郡 (ニューヨーク州): 0.0708429573733\n",
      "フルトン郡 (ニューヨーク州): 0.0708429573733\n",
      "エルマイラ: 0.0708429573733\n",
      "ノーストナワンダ (ニューヨーク州): 0.0708429573733\n",
      "リビングストン郡 (ニューヨーク州): 0.0708429573733\n",
      "シェナンゴ郡 (ニューヨーク州): 0.0708429573733\n",
      "カーメル (ニューヨーク州): 0.0708429573733\n"
     ]
    }
   ],
   "source": [
    "ja = nx.read_gpickle('ja25.pickle')\n",
    "print len(ja), ja.size()\n",
    "jac = nx.eigenvector_centrality_numpy(ja)\n",
    "sorted_jac = sorted(jac.items(), key=operator.itemgetter(1))\n",
    "for name,i in sorted_jac[-100:][::-1]:\n",
    "    print name+':',i"
   ]
  },
  {
   "cell_type": "code",
   "execution_count": 8,
   "metadata": {
    "collapsed": false
   },
   "outputs": [
    {
     "name": "stderr",
     "output_type": "stream",
     "text": [
      "VERBOSE:pywiki:Found 1 wikipedia:ja processes running, including this one.\n"
     ]
    },
    {
     "name": "stdout",
     "output_type": "stream",
     "text": [
      "United States: 0.125653882051\n",
      "New York City: 0.0942028939488\n",
      "English language: 0.0879552750939\n",
      "New York: 0.0868447145552\n",
      "2010: 0.0767340918821\n",
      "Manhattan: 0.0751761899726\n",
      "Daylight saving time: 0.0740269750931\n",
      "Albany, New York: 0.0739551329771\n",
      "2000: 0.0739372009222\n",
      "Square kilometre: 0.0735365888958\n",
      "ロックランド郡 (ニューヨーク州): 0.0729689583816\n",
      "Brooklyn: 0.0728227766329\n",
      "Queens: 0.0726183986465\n",
      "New York metropolitan area: 0.0725144975229\n",
      "Staten Island: 0.0723551828689\n",
      "The Bronx: 0.0721523021421\n",
      "Dutchess County, New York: 0.0721241096946\n",
      "Poughkeepsie (town), New York: 0.0720887820227\n",
      "Long Island: 0.0720855786901\n",
      "Poughkeepsie, New York: 0.0720647243553\n",
      "Allegheny Plateau: 0.071995876225\n",
      "Saratoga, New York: 0.0719777917838\n",
      "Buffalo, New York: 0.0719417222742\n",
      "List of Governors of New York: 0.0717399888526\n",
      "Catskill Mountains: 0.0716023298725\n",
      "Rochester, New York: 0.0715714789865\n",
      "Orange County, New York: 0.0715629594526\n",
      "Kingston, New York: 0.0715230370714\n",
      "Saratoga Springs, New York: 0.0714959371416\n",
      "List of counties in New York: 0.0714906006062\n",
      "Ulster County, New York: 0.0714862077504\n",
      "Saratoga County, New York: 0.0714530021211\n",
      "Haverstraw, New York: 0.0714485162687\n",
      "Lansing, New York: 0.0714485162687\n",
      "Tompkins County, New York: 0.0714485162687\n",
      "Highlands, New York: 0.0714485162687\n",
      "Finger Lakes: 0.0714485162687\n",
      "Watertown: 0.0714485162687\n",
      "Woodstock, New York: 0.0714485162687\n",
      "Westchester County, New York: 0.0713720492662\n",
      "History of New York: 0.071285359216\n",
      "White Plains, New York: 0.0712786974949\n",
      "Syracuse, New York: 0.0712028731196\n",
      "Adirondack Mountains: 0.0712028184965\n",
      "Troy, New York: 0.0711227630142\n",
      "Saint Lawrence Seaway: 0.0710648516505\n",
      "Binghamton, New York: 0.0710439450867\n",
      "Niagara Falls, New York: 0.0710386231164\n",
      "Yonkers, New York: 0.0709926750818\n",
      "Utica, New York: 0.0709906479496\n",
      "Lockport (city), New York: 0.0709847588177\n",
      "Rome, New York: 0.0709847588177\n",
      "Batavia, New York: 0.0709847588177\n",
      "Canandaigua (city), New York: 0.0709847588177\n",
      "Population density: 0.0709606522312\n",
      "Nassau County, New York: 0.070958702932\n",
      "Suffolk County, New York: 0.070927232867\n",
      "Newburgh (city), New York: 0.0709019271322\n",
      "New Rochelle, New York: 0.0708946418372\n",
      "Putnam County, New York: 0.0708898652931\n",
      "Hempstead, New York: 0.0708750218668\n",
      "Sullivan County, New York: 0.0708686366955\n",
      "Columbia County, New York: 0.0708674469522\n",
      "Upstate New York: 0.0708640088824\n",
      "Auburn, New York: 0.0708429573733\n",
      "Riverhead (town), New York: 0.0708429573733\n",
      "Oswego County, New York: 0.0708429573733\n",
      "Broome County, New York: 0.0708429573733\n",
      "Glens Falls, New York: 0.0708429573733\n",
      "Jefferson County, New York: 0.0708429573733\n",
      "Ontario County, New York: 0.0708429573733\n",
      "Schenectady County, New York: 0.0708429573733\n",
      "List of people from New York: 0.0708429573733\n",
      "Queensbury, New York: 0.0708429573733\n",
      "Delaware County, New York: 0.0708429573733\n",
      "Wayne County, New York: 0.0708429573733\n",
      "Mount Vernon, New York: 0.0708429573733\n",
      "Plattsburgh (city), New York: 0.0708429573733\n",
      "Middletown, Orange County, New York: 0.0708429573733\n",
      "Clarkstown, New York: 0.0708429573733\n",
      "Cattaraugus County, New York: 0.0708429573733\n",
      "Steuben County, New York: 0.0708429573733\n",
      "Greene County, New York: 0.0708429573733\n",
      "Erie County, New York: 0.0708429573733\n",
      "St. Lawrence County, New York: 0.0708429573733\n",
      "Amherst, New York: 0.0708429573733\n",
      "Long Beach, New York: 0.0708429573733\n",
      "Jamestown, New York: 0.0708429573733\n",
      "Madison County, New York: 0.0708429573733\n",
      "Cayuga County, New York: 0.0708429573733\n",
      "Cortland, New York: 0.0708429573733\n",
      "Glen Cove, New York: 0.0708429573733\n",
      "Chemung County, New York: 0.0708429573733\n",
      "Monroe County, New York: 0.0708429573733\n",
      "Fulton County, New York: 0.0708429573733\n",
      "Elmira, New York: 0.0708429573733\n",
      "North Tonawanda, New York: 0.0708429573733\n",
      "Livingston County, New York: 0.0708429573733\n",
      "Chenango County, New York: 0.0708429573733\n",
      "Carmel, New York: 0.0708429573733\n"
     ]
    }
   ],
   "source": [
    "jasite = pwb.Site('ja', 'wikipedia')\n",
    "for name,i in sorted_jac[-100:][::-1]:\n",
    "    print translate(jasite,name)+':',i"
   ]
  },
  {
   "cell_type": "code",
   "execution_count": 19,
   "metadata": {
    "collapsed": false
   },
   "outputs": [
    {
     "name": "stdout",
     "output_type": "stream",
     "text": [
      "208368 644859\n",
      "Викисклад: 0.138747282416\n",
      "Россия: 0.124991822598\n",
      "Географические координаты: 0.10238047559\n",
      "Викиновости: 0.0863539389252\n",
      "Викигид: 0.0852266286549\n",
      "Москва: 0.0826898942198\n",
      "Украина: 0.0807563493306\n",
      "Великобритания: 0.0799920731145\n",
      "Япония: 0.0780276787795\n",
      "Турция: 0.0770669259009\n",
      "Часовой пояс: 0.077040753192\n",
      "США: 0.0766030353662\n",
      "Франция: 0.0762246460362\n",
      "Казахстан: 0.0728648392397\n",
      "Население: 0.0699927658384\n",
      "Плотность населения: 0.0694657134666\n",
      "Грузия: 0.0679373599761\n",
      "Египет: 0.06698536251\n",
      "Израиль: 0.066612250264\n",
      "Столица: 0.0659025753555\n",
      "Азербайджан: 0.0654357332132\n",
      "Армения: 0.0652574060765\n",
      "Германия: 0.0651387042145\n",
      "Индия: 0.0633446838089\n",
      "Викитека: 0.0632741596752\n",
      "Канада: 0.0630980486107\n",
      "Ливан: 0.0616824201304\n",
      "Город: 0.0612693097318\n",
      "Сирия: 0.0612456929229\n",
      "СССР: 0.0602036062365\n",
      "Викисловарь: 0.0594077124422\n",
      "Ирак: 0.0582103119056\n",
      "Непризнанные и частично признанные государства: 0.0565519783638\n",
      "Республика Кипр: 0.0562853859215\n",
      "Официальный язык: 0.0560167893344\n",
      "Италия: 0.0553036031258\n",
      "Китайская Народная Республика: 0.0549626001095\n",
      "Узбекистан: 0.0547699774843\n",
      "XIX век: 0.0546725194588\n",
      "Иран: 0.0546150698472\n",
      "Соединённые Штаты Америки: 0.0539162687603\n",
      "Таиланд: 0.0537415251033\n",
      "Иордания: 0.0537190415897\n",
      "Европа: 0.0536789788894\n",
      "Индонезия: 0.052966731768\n",
      "Афганистан: 0.0524960442991\n",
      "Пакистан: 0.0524903761549\n",
      "2009 год: 0.0523771704907\n",
      "Вьетнам: 0.0522465852146\n",
      "Санкт-Петербург: 0.0522207691123\n",
      "Территория: 0.0511817526368\n",
      "2008 год: 0.0511233754778\n",
      "Камбоджа: 0.0507741298857\n",
      "Киргизия: 0.0506291029257\n",
      "Английский язык: 0.0505801559345\n",
      "Таджикистан: 0.0502065901388\n",
      "2007 год: 0.0502021359167\n",
      "Испания: 0.0501129246676\n",
      "Польша: 0.0496276766441\n",
      "Литва: 0.0492754881661\n",
      "Катар: 0.0490643277151\n",
      "ООН: 0.0489618335252\n",
      "Абхазия: 0.0488629848891\n",
      "Валюта: 0.0486734647725\n",
      "Сингапур: 0.0486339359715\n",
      "Республика Корея: 0.0485511629703\n",
      "Туркмения: 0.0485176098924\n",
      "2004 год: 0.0479422123781\n",
      "Лаос: 0.0478523169299\n",
      "Саудовская Аравия: 0.0474914379349\n",
      "Монголия: 0.0474716546556\n",
      "2006 год: 0.0472647683318\n",
      "Доллар США: 0.0471114797991\n",
      "Объединённые Арабские Эмираты: 0.046946905793\n",
      "Список телефонных кодов стран: 0.0469181869039\n",
      "Малайзия: 0.0467969657331\n",
      "Домен верхнего уровня: 0.0467517411025\n",
      "Белоруссия: 0.0467329216087\n",
      "Бангладеш: 0.0465582854675\n",
      "Китай: 0.0464854918568\n",
      "Форма государственного правления: 0.0464662088479\n",
      "Валовой внутренний продукт: 0.0460751392098\n",
      "XX век: 0.0459471624959\n",
      "Филиппины: 0.0458873605735\n",
      "Шри-Ланка: 0.0455824948083\n",
      "Йемен: 0.0455794069414\n",
      "Список кодов МОК: 0.0455630787815\n",
      "Площадь: 0.045529211585\n",
      "Швеция: 0.0452961412488\n",
      "Мьянма: 0.0452691232617\n",
      "Гонконг: 0.045259664268\n",
      "2005 год: 0.0450942440685\n",
      "ISO 3166-1: 0.0449533113754\n",
      "Квадратный километр: 0.0449530573274\n",
      "Греция: 0.0448945078412\n",
      "Марокко: 0.04478479246\n",
      "Нидерланды: 0.044698862885\n",
      "Государство Палестина: 0.0445970933359\n",
      "Список стран и зависимых территорий по площади: 0.044501026298\n",
      "Список стран по населению: 0.0444605919741\n"
     ]
    }
   ],
   "source": [
    "ru = nx.read_gpickle('ru25.pickle')\n",
    "print len(ru), ru.size()\n",
    "ruc = nx.eigenvector_centrality_numpy(ru)\n",
    "sorted_ruc = sorted(ruc.items(), key=operator.itemgetter(1))\n",
    "for name,i in sorted_ruc[-100:][::-1]:\n",
    "    print name+':',i"
   ]
  },
  {
   "cell_type": "code",
   "execution_count": 20,
   "metadata": {
    "collapsed": false
   },
   "outputs": [
    {
     "name": "stderr",
     "output_type": "stream",
     "text": [
      "VERBOSE:pywiki:Found 1 wikipedia:ru processes running, including this one.\n"
     ]
    },
    {
     "name": "stdout",
     "output_type": "stream",
     "text": [
      "Wikimedia Commons: 0.138747282416\n",
      "Russia: 0.124991822598\n",
      "Geographic coordinate system: 0.10238047559\n",
      "Wikinews: 0.0863539389252\n",
      "Wikivoyage: 0.0852266286549\n",
      "Moscow: 0.0826898942198\n",
      "Ukraine: 0.0807563493306\n",
      "United Kingdom: 0.0799920731145\n",
      "Japan: 0.0780276787795\n",
      "Turkey: 0.0770669259009\n",
      "Time zone: 0.077040753192\n",
      "США: 0.0766030353662\n",
      "France: 0.0762246460362\n",
      "Kazakhstan:"
     ]
    },
    {
     "name": "stderr",
     "output_type": "stream",
     "text": [
      "VERBOSE:pywiki:Found 1 wikipedia:bar processes running, including this one.\n"
     ]
    },
    {
     "name": "stdout",
     "output_type": "stream",
     "text": [
      " 0.0728648392397\n",
      "Population: 0.0699927658384\n",
      "Population density: 0.0694657134666\n",
      "Georgia (country): 0.0679373599761\n",
      "Egypt: 0.06698536251\n",
      "Israel: 0.066612250264\n",
      "Capital city: 0.0659025753555\n",
      "Azerbaijan: 0.0654357332132\n",
      "Armenia: 0.0652574060765\n",
      "Germany: 0.0651387042145\n",
      "India: 0.0633446838089\n",
      "Wikisource: 0.0632741596752\n",
      "Canada: 0.0630980486107\n",
      "Lebanon: 0.0616824201304\n",
      "City: 0.0612693097318\n",
      "Syria: 0.0612456929229\n",
      "СССР: 0.0602036062365\n",
      "Wiktionary: 0.0594077124422\n",
      "Iraq: 0.0582103119056\n",
      "List of states with limited recognition: 0.0565519783638\n",
      "Cyprus: 0.0562853859215\n",
      "Official language: 0.0560167893344\n",
      "Italy: 0.0553036031258\n",
      "China: 0.0549626001095\n",
      "Uzbekistan: 0.0547699774843\n",
      "19th century: 0.0546725194588\n",
      "Iran: 0.0546150698472\n",
      "United States: 0.0539162687603\n",
      "Thailand: 0.0537415251033\n",
      "Jordan: 0.0537190415897\n",
      "Europe: 0.0536789788894\n",
      "Indonesia: 0.052966731768\n",
      "Afghanistan: 0.0524960442991\n",
      "Pakistan: 0.0524903761549\n",
      "2009: 0.0523771704907\n",
      "Vietnam: 0.0522465852146\n",
      "Saint Petersburg: 0.0522207691123\n",
      "Territory: 0.0511817526368\n",
      "2008: 0.0511233754778\n",
      "Cambodia: 0.0507741298857\n",
      "Kyrgyzstan: 0.0506291029257\n",
      "English language: 0.0505801559345\n",
      "Tajikistan: 0.0502065901388\n",
      "2007: 0.0502021359167\n",
      "Spain: 0.0501129246676\n",
      "Poland: 0.0496276766441\n",
      "Lithuania: 0.0492754881661\n",
      "Qatar: 0.0490643277151\n",
      "ООН: 0.0489618335252\n",
      "Abkhazia: 0.0488629848891\n",
      "Currency: 0.0486734647725\n",
      "Singapore: 0.0486339359715\n",
      "South Korea: 0.0485511629703\n",
      "Turkmenistan: 0.0485176098924\n",
      "2004: 0.0479422123781\n",
      "Laos: 0.0478523169299\n",
      "Saudi Arabia: 0.0474914379349\n",
      "Mongolia: 0.0474716546556\n",
      "2006: 0.0472647683318\n",
      "United States dollar: 0.0471114797991\n",
      "United Arab Emirates: 0.046946905793\n",
      "List of country calling codes: 0.0469181869039\n",
      "Malaysia: 0.0467969657331\n",
      "Top-level domain: 0.0467517411025\n",
      "Belarus: 0.0467329216087\n",
      "Bangladesh: 0.0465582854675\n",
      "Китай: 0.0464854918568\n",
      "Форма государственного правления: 0.0464662088479\n",
      "Gross domestic product:"
     ]
    },
    {
     "name": "stderr",
     "output_type": "stream",
     "text": [
      "VERBOSE:pywiki:Found 1 wikipedia:ceb processes running, including this one.\n"
     ]
    },
    {
     "name": "stdout",
     "output_type": "stream",
     "text": [
      " 0.0460751392098\n",
      "20th century: 0.0459471624959\n",
      "Philippines: 0.0458873605735\n",
      "Sri Lanka: 0.0455824948083\n",
      "Yemen: 0.0455794069414\n",
      "List of IOC country codes: 0.0455630787815\n",
      "Area: 0.045529211585\n",
      "Sweden: 0.0452961412488\n",
      "Myanmar: 0.0452691232617\n",
      "Hong Kong: 0.045259664268\n",
      "2005: 0.0450942440685\n",
      "ISO 3166-1: 0.0449533113754\n",
      "Square kilometre: 0.0449530573274\n",
      "Greece: 0.0448945078412\n",
      "Morocco: 0.04478479246\n",
      "Netherlands: 0.044698862885\n",
      "State of Palestine: 0.0445970933359\n",
      "Список стран и зависимых территорий по площади: 0.044501026298\n",
      "List of countries and dependencies by population: 0.0444605919741\n"
     ]
    }
   ],
   "source": [
    "rusite = pwb.Site('ru', 'wikipedia')\n",
    "for name,i in sorted_ruc[-100:][::-1]:\n",
    "    print translate(rusite,name)+':',i"
   ]
  },
  {
   "cell_type": "code",
   "execution_count": 7,
   "metadata": {
    "collapsed": false
   },
   "outputs": [
    {
     "name": "stdout",
     "output_type": "stream",
     "text": [
      "550663 1969976\n",
      "Moscow: 0.0628174462496\n",
      "Paris: 0.0628119164672\n",
      "London: 0.0625136204333\n",
      "Istanbul: 0.0622817753466\n",
      "Stockholm: 0.0618883233668\n",
      "Athens: 0.0617622471054\n",
      "Amsterdam: 0.0615611105791\n",
      "Madrid: 0.0614964838691\n",
      "Copenhagen: 0.0613529280915\n",
      "Helsinki: 0.0613438637481\n",
      "Brussels: 0.0612164973848\n",
      "Rome: 0.0611817813593\n",
      "Vienna: 0.0609158793216\n",
      "Riga: 0.0609010192098\n",
      "Dublin: 0.060858078668\n",
      "Tallinn: 0.0608387470295\n",
      "Baku: 0.0605511973273\n",
      "Belgrade: 0.0602513504878\n",
      "Kiev: 0.0600256439315\n",
      "Luxembourg City: 0.0599426213882\n",
      "Oslo: 0.0598956548984\n",
      "Zagreb: 0.0598100191475\n",
      "Munich: 0.0592785890413\n",
      "Jerusalem: 0.0590939501207\n",
      "Bergen: 0.0590192557047\n",
      "Hamburg: 0.058971448185\n",
      "List of countries in the Eurovision Song Contest: 0.0588280059679\n",
      "Frankfurt: 0.058499856798\n",
      "The Hague: 0.0583690953809\n",
      "Edinburgh: 0.0582046103789\n",
      "Naples: 0.0581134947294\n",
      "Eurovision Song Contest: 0.0581054336189\n",
      "Birmingham: 0.0580501190569\n",
      "Düsseldorf: 0.057951940319\n",
      "Gothenburg: 0.0578629047587\n",
      "Malmö: 0.0578270605282\n",
      "Eurovision Song Contest 2011: 0.0578111762442\n",
      "Lausanne: 0.057712199591\n",
      "RAI: 0.0576117527714\n",
      "Brighton: 0.0574481931558\n",
      "Eurovision Song Contest 2007: 0.0574459416666\n",
      "Eurovision Song Contest 1974: 0.0574359376525\n",
      "Norddeutscher Rundfunk: 0.0574350088073\n",
      "Selecţia Naţională: 0.0574287138679\n",
      "World Forum Convention Center: 0.0574287138679\n",
      "Hartwall Areena: 0.0574287138679\n",
      "Eurovision Song Contest 2006: 0.0574257338794\n",
      "Olympic Indoor Hall: 0.0573290152497\n",
      "Eurovision Song Contest 2005: 0.0573090879283\n",
      "BBC Television Centre: 0.0572964799485\n",
      "Eurovision Song Contest 2008: 0.0572770500573\n",
      "Royal Albert Hall: 0.0572654561767\n",
      "Eurovision Song Contest 2009: 0.0572369754261\n",
      "Hilversum: 0.0572340779589\n",
      "Belgrade Arena: 0.0572330792134\n",
      "Eurovision Song Contest 2004: 0.0572316226976\n",
      "Royal Festival Hall: 0.0572300502622\n",
      "Festivali i Këngës në RTSH: 0.0572222696998\n",
      "Heysel Park: 0.0572212783173\n",
      "OGAE: 0.0572198076934\n",
      "Dansk Melodi Grand Prix: 0.0572141910026\n",
      "Eurovision Song Contest 2010: 0.0572065255358\n",
      "BNT: 0.0572021841923\n",
      "International Convention Center (Jerusalem): 0.0572021024535\n",
      "Eurovision Song Contest 1969: 0.0571954798042\n",
      "Eurovision Song Contest 1971: 0.0571943829996\n",
      "Eurovision Song Contest 1990: 0.0571943829996\n",
      "Eurovision Song Contest 1996: 0.0571943829996\n",
      "Eurovision Song Contest 1962: 0.0571943829996\n",
      "Kosovo in the Eurovision Song Contest: 0.0571943829996\n",
      "Uuden Musiikin Kilpailu: 0.0571943829996\n",
      "Concours Eurovision: 0.0571943829996\n",
      "Eurovision Song Contest 1992: 0.0571943829996\n",
      "Eurovision Song Contest 1966: 0.0571943829996\n",
      "Tunisia in the Eurovision Song Contest: 0.0571943829996\n",
      "Die Grosse Entscheidungsshow: 0.0571943829996\n",
      "Eurovision Song Contest 1961: 0.0571943829996\n",
      "Destino Eurovisión: 0.0571943829996\n",
      "Eurovision Song Contest 1991: 0.0571943829996\n",
      "Eurovision Song Contest 1993: 0.0571943829996\n",
      "Scotland in the Eurovision Song Contest: 0.0571943829996\n",
      "O melodie pentru Europa: 0.0571943829996\n",
      "Teatro Kursaal: 0.0571943829996\n",
      "Eurovision: Your Country Needs You: 0.0571943829996\n",
      "You're a Star: 0.0571943829996\n",
      "Eurovision Song Contest 1976: 0.0571943829996\n",
      "Eurovision Song Contest 1975: 0.0571943829996\n",
      "Eurovision Song Contest 1979: 0.0571943829996\n",
      "Eurovision Song Contest 1981: 0.0571943829996\n",
      "Eurovision Song Contest 1998: 0.0571943829996\n",
      "Kazakhstan in the Eurovision Song Contest: 0.0571943829996\n",
      "Söngvakeppni Sjónvarpsins: 0.0571943829996\n",
      "Croatia in the Eurovision Song Contest: 0.0571943829996\n",
      "HRT Dora: 0.0571943829996\n",
      "Suomen euroviisukarsinta: 0.0571943829996\n",
      "Eurovision Song Contest 1968: 0.0571943829996\n",
      "BH Eurosong: 0.0571943829996\n",
      "Eventim Apollo: 0.0571943829996\n",
      "Eurovision Song Contest 1983: 0.0571943829996\n",
      "Eurovision Song Contest 1984: 0.0571943829996\n"
     ]
    }
   ],
   "source": [
    "en = nx.read_gpickle('en25.pickle')\n",
    "print len(en), en.size()\n",
    "enc = nx.eigenvector_centrality_numpy(en)\n",
    "sorted_enc = sorted(enc.items(), key=operator.itemgetter(1))\n",
    "for name,i in sorted_enc[-100:][::-1]:\n",
    "    print name+':',i"
   ]
  },
  {
   "cell_type": "code",
   "execution_count": 10,
   "metadata": {
    "collapsed": false
   },
   "outputs": [
    {
     "name": "stdout",
     "output_type": "stream",
     "text": [
      "Geographic coordinate system: 2804\n",
      "International Standard Book Number: 1976\n",
      "United States: 1754\n",
      "Coordinated Universal Time: 1661\n",
      "Time zone: 1486\n",
      "Integrated Authority File: 1405\n",
      "Japan: 1217\n",
      "China: 1207\n",
      "Virtual International Authority File: 1163\n",
      "Russia: 1138\n",
      "Turkey: 1098\n",
      "New York City: 1083\n",
      "Pinyin: 987\n",
      "Telephone numbering plan: 963\n",
      "Moscow: 926\n",
      "Istanbul: 881\n",
      "United Kingdom: 880\n",
      "National Diet Library: 876\n",
      "France: 854\n",
      "New York: 766\n",
      "World War II: 764\n",
      "Tokyo: 735\n",
      "Germany: 715\n",
      "Daylight saving time: 708\n",
      "Shanghai: 704\n",
      "Prefecture-level city: 700\n",
      "Chinese language: 682\n",
      "Italy: 681\n",
      "Digital object identifier: 678\n",
      "China Standard Time: 648\n",
      "List of current and former capitals of subnational entities of China: 647\n",
      "Simplified Chinese characters: 645\n",
      "Bibliothèque nationale de France: 626\n",
      "Precipitation: 626\n",
      "London: 619\n",
      "Canada: 619\n",
      "Paris: 612\n",
      "People's Republic of China: 610\n",
      "Provinces of China: 610\n",
      "Spain: 602\n",
      "Wayback Machine: 597\n",
      "The New York Times: 596\n",
      "Traditional Chinese characters: 596\n",
      "Manhattan: 582\n",
      "Köppen climate classification: 581\n",
      "Library of Congress Control Number: 575\n",
      "India: 564\n",
      "United States Census Bureau: 561\n",
      "List of sovereign states: 557\n",
      "Beijing: 557\n",
      "Ukraine: 555\n",
      "Russian language: 547\n",
      "Population density: 547\n",
      "U.S. state: 541\n",
      "South Korea: 535\n",
      "Hong Kong: 533\n",
      "Netherlands: 522\n",
      "Soviet Union: 521\n",
      "2010 United States Census: 513\n",
      "Australia: 508\n",
      "Ottoman Empire: 503\n",
      "Sweden: 493\n",
      "Turkish language: 491\n",
      "Israel: 489\n",
      "County-level city: 480\n",
      "Sunshine duration: 479\n",
      "Europe: 479\n",
      "2000 United States Census: 476\n",
      "Greece: 475\n",
      "Brazil: 471\n",
      "Metropolitan area: 468\n",
      "Athens: 464\n",
      "Rome: 462\n",
      "1990 United States Census: 451\n",
      "Brooklyn: 451\n",
      "Madrid: 448\n",
      "1980 United States Census: 444\n",
      "1970 United States Census: 443\n",
      "Poland: 442\n",
      "1960 United States Census: 436\n",
      "Urban area: 436\n",
      "Taiwan: 435\n",
      "1950 United States Census: 430\n",
      "Egypt: 429\n",
      "Queens: 428\n",
      "Amsterdam: 427\n",
      "1940 United States Census: 426\n",
      "Stockholm: 419\n",
      "English language: 415\n",
      "Belgium: 415\n",
      "Helsinki: 410\n",
      "Azerbaijan: 408\n",
      "Norway: 407\n",
      "Iran: 406\n",
      "Mexico: 404\n",
      "Standard Chinese: 404\n",
      "Vienna: 403\n",
      "1930 United States Census: 402\n",
      "Finland: 401\n",
      "Kiev: 401\n"
     ]
    }
   ],
   "source": [
    "degrees = en.in_degree()\n",
    "s = sorted(degrees.items(), key=operator.itemgetter(1))\n",
    "for name,i in s[-100:][::-1]:\n",
    "    print name+':',i"
   ]
  },
  {
   "cell_type": "code",
   "execution_count": 9,
   "metadata": {
    "collapsed": false
   },
   "outputs": [
    {
     "data": {
      "text/plain": [
       "116"
      ]
     },
     "execution_count": 9,
     "metadata": {},
     "output_type": "execute_result"
    }
   ],
   "source": [
    "approx.local_node_connectivity(tr, u'İstanbul', u'New York')"
   ]
  },
  {
   "cell_type": "code",
   "execution_count": 15,
   "metadata": {
    "collapsed": false
   },
   "outputs": [
    {
     "name": "stdout",
     "output_type": "stream",
     "text": [
      "Şanghay İstanbul 113\n",
      "Şanghay Tokyo 113\n",
      "Şanghay Moskova 111\n",
      "Şanghay New York 113\n",
      "İstanbul Tokyo 114\n",
      "İstanbul Moskova 388\n",
      "İstanbul New York 116\n",
      "Tokyo Moskova 197\n",
      "Tokyo New York 116\n",
      "Moskova New York 116\n"
     ]
    }
   ],
   "source": [
    "for a,b in itertools.combinations(subset25['tr'],2):\n",
    "    print a,b,approx.local_node_connectivity(tr, a.decode('utf-8'), b.decode('utf-8'))"
   ]
  },
  {
   "cell_type": "code",
   "execution_count": 17,
   "metadata": {
    "collapsed": true
   },
   "outputs": [],
   "source": [
    "zh = nx.read_gpickle('zh25.pickle')"
   ]
  },
  {
   "cell_type": "code",
   "execution_count": 18,
   "metadata": {
    "collapsed": false
   },
   "outputs": [
    {
     "name": "stdout",
     "output_type": "stream",
     "text": [
      "上海市 伊斯坦堡 102\n",
      "上海市 東京都 143\n",
      "上海市 莫斯科 192\n",
      "上海市 纽约 98\n",
      "伊斯坦堡 東京都 140\n",
      "伊斯坦堡 莫斯科 195\n",
      "伊斯坦堡 纽约 98\n",
      "東京都 莫斯科 191\n",
      "東京都 纽约 97\n",
      "莫斯科 纽约 99\n"
     ]
    }
   ],
   "source": [
    "for a,b in itertools.combinations(subset25['zh'],2):\n",
    "    print a,b,approx.local_node_connectivity(zh, a.decode('utf-8'), b.decode('utf-8'))"
   ]
  },
  {
   "cell_type": "code",
   "execution_count": 19,
   "metadata": {
    "collapsed": true
   },
   "outputs": [],
   "source": [
    "ja = nx.read_gpickle('ja25.pickle')"
   ]
  },
  {
   "cell_type": "code",
   "execution_count": 20,
   "metadata": {
    "collapsed": false
   },
   "outputs": [
    {
     "name": "stdout",
     "output_type": "stream",
     "text": [
      "上海市 イスタンブル 151\n",
      "上海市 東京都 268\n",
      "上海市 モスクワ 239\n",
      "上海市 ニューヨーク 270\n",
      "イスタンブル 東京都 320\n",
      "イスタンブル モスクワ 237\n",
      "イスタンブル ニューヨーク 287\n",
      "東京都 モスクワ 242\n",
      "東京都 ニューヨーク 291\n",
      "モスクワ ニューヨーク 289\n"
     ]
    }
   ],
   "source": [
    "for a,b in itertools.combinations(subset25['ja'],2):\n",
    "    print a,b,approx.local_node_connectivity(ja, a.decode('utf-8'), b.decode('utf-8'))"
   ]
  },
  {
   "cell_type": "code",
   "execution_count": 21,
   "metadata": {
    "collapsed": true
   },
   "outputs": [],
   "source": [
    "ru = nx.read_gpickle('ru25.pickle')"
   ]
  },
  {
   "cell_type": "code",
   "execution_count": 22,
   "metadata": {
    "collapsed": false
   },
   "outputs": [
    {
     "name": "stdout",
     "output_type": "stream",
     "text": [
      "Шанхай Стамбул 126\n",
      "Шанхай Токио 159\n",
      "Шанхай Москва 308\n",
      "Шанхай Нью-Йорк 159\n",
      "Стамбул Токио 158\n",
      "Стамбул Москва 290\n",
      "Стамбул Нью-Йорк 158\n",
      "Токио Москва 324\n",
      "Токио Нью-Йорк 159\n",
      "Москва Нью-Йорк 158\n"
     ]
    }
   ],
   "source": [
    "for a,b in itertools.combinations(subset25['ru'],2):\n",
    "    print a,b,approx.local_node_connectivity(ru, a.decode('utf-8'), b.decode('utf-8'))"
   ]
  },
  {
   "cell_type": "code",
   "execution_count": 9,
   "metadata": {
    "collapsed": true
   },
   "outputs": [],
   "source": [
    "en = nx.read_gpickle('en25.pickle')"
   ]
  },
  {
   "cell_type": "code",
   "execution_count": 10,
   "metadata": {
    "collapsed": false
   },
   "outputs": [
    {
     "name": "stdout",
     "output_type": "stream",
     "text": [
      "Shanghai Istanbul 427\n",
      "Shanghai Tokyo 372\n",
      "Shanghai Moscow 495\n",
      "Shanghai New York City 496\n",
      "Istanbul Tokyo 372\n",
      "Istanbul Moscow 678\n",
      "Istanbul New York City 503\n",
      "Tokyo Moscow 499\n",
      "Tokyo New York City 499\n",
      "Moscow New York City 504\n"
     ]
    }
   ],
   "source": [
    "for a,b in itertools.combinations(subset25['en'],2):\n",
    "    print a,b,approx.local_node_connectivity(en, a.decode('utf-8'), b.decode('utf-8'))"
   ]
  },
  {
   "cell_type": "code",
   "execution_count": null,
   "metadata": {
    "collapsed": true
   },
   "outputs": [],
   "source": []
  }
 ],
 "metadata": {
  "kernelspec": {
   "display_name": "Python 2",
   "language": "python",
   "name": "python2"
  },
  "language_info": {
   "codemirror_mode": {
    "name": "ipython",
    "version": 2
   },
   "file_extension": ".py",
   "mimetype": "text/x-python",
   "name": "python",
   "nbconvert_exporter": "python",
   "pygments_lexer": "ipython2",
   "version": "2.7.10"
  }
 },
 "nbformat": 4,
 "nbformat_minor": 0
}
