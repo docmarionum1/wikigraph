{
 "cells": [
  {
   "cell_type": "code",
   "execution_count": 1,
   "metadata": {
    "collapsed": false
   },
   "outputs": [
    {
     "name": "stdout",
     "output_type": "stream",
     "text": [
      "Populating the interactive namespace from numpy and matplotlib\n"
     ]
    }
   ],
   "source": [
    "#make sure plots are embedded into the notebook\n",
    "%pylab inline "
   ]
  },
  {
   "cell_type": "code",
   "execution_count": 2,
   "metadata": {
    "collapsed": false
   },
   "outputs": [
    {
     "name": "stderr",
     "output_type": "stream",
     "text": [
      "VERBOSE:pywiki:Starting 1 threads...\n"
     ]
    },
    {
     "name": "stdout",
     "output_type": "stream",
     "text": [
      "WARNING: Configuration variable 'use_api_login' is defined but unknown.\n",
      "Misspelled?\n",
      "WARNING: Running on Windows and transliteration_target is not set.\n",
      "Please see https://www.mediawiki.org/wiki/Special:MyLanguage/Manual:Pywikibot/Windows\n",
      "WARNING: family and mylang are not set.\n",
      "Defaulting to family='test' and mylang='test'.\n"
     ]
    }
   ],
   "source": [
    "import pywikibot as pwb\n",
    "import pandas as pd\n",
    "import networkx as nx\n",
    "\n",
    "import pylab as pl\n",
    "\n",
    "# Make plots prettyful\n",
    "pl.style.use('fivethirtyeight')"
   ]
  },
  {
   "cell_type": "code",
   "execution_count": 3,
   "metadata": {
    "collapsed": true
   },
   "outputs": [],
   "source": [
    "langs = [\n",
    "    ('en', 'English'), \n",
    "    ('de', 'German'),\n",
    "    ('es', 'Spanish'),\n",
    "    ('fr', 'French'),\n",
    "    ('ja', 'Japanese'),\n",
    "    ('ru', 'Russian'),\n",
    "    ('it', 'Italian'),\n",
    "    ('pt', 'Portuguese'),\n",
    "    ('zh', 'Chinese'),\n",
    "    ('nl', 'Dutch'),\n",
    "    ('pl', 'Polish'),\n",
    "    ('ar', 'Arabic'),\n",
    "    ('tr', 'Turkish'),\n",
    "    ('sv', 'Swedish'),\n",
    "    ('ko', 'Korean'),\n",
    "    ('fa', 'Persian'),\n",
    "    ('uk', 'Ukrainian'),\n",
    "    ('he', 'Hebrew'),\n",
    "    ('id', 'Indonesian'),\n",
    "    ('cs', 'Czech'),\n",
    "    ('ur', 'Urdu'),\n",
    "    ('hi', 'Hindi')\n",
    "]\n",
    "\n",
    "lang_codes = [i[0] for i in langs]"
   ]
  },
  {
   "cell_type": "code",
   "execution_count": 4,
   "metadata": {
    "collapsed": true
   },
   "outputs": [],
   "source": [
    "cities = pd.read_csv('cities.csv')"
   ]
  },
  {
   "cell_type": "code",
   "execution_count": 5,
   "metadata": {
    "collapsed": false
   },
   "outputs": [
    {
     "data": {
      "text/plain": [
       "Index([u'ar', u'cs', u'de', u'en', u'es', u'fa', u'fr', u'he', u'hi', u'id',\n",
       "       u'it', u'ja', u'ko', u'nl', u'pl', u'pt', u'ru', u'sv', u'tr', u'uk',\n",
       "       u'ur', u'zh'],\n",
       "      dtype='object')"
      ]
     },
     "execution_count": 5,
     "metadata": {},
     "output_type": "execute_result"
    }
   ],
   "source": [
    "cities.columns"
   ]
  },
  {
   "cell_type": "code",
   "execution_count": 6,
   "metadata": {
    "collapsed": false
   },
   "outputs": [],
   "source": [
    "subset100 = cities[cities['en'].isin([\n",
    "    u'Shanghai',\n",
    "    u'Karachi',\n",
    "    u'Lagos',\n",
    "    u'Istanbul',\n",
    "    u'Tokyo',\n",
    "    u'Mumbai',\n",
    "    u'Moscow',\n",
    "    u'São Paulo',\n",
    "    u'Seoul',\n",
    "    u'New York City'\n",
    "])][['en','zh','tr','ja','ru','pt','ko','ur','hi','de']]"
   ]
  },
  {
   "cell_type": "code",
   "execution_count": 7,
   "metadata": {
    "collapsed": true
   },
   "outputs": [],
   "source": [
    "subset25 = cities[cities['en'].isin([\n",
    "    u'Shanghai',\n",
    "    u'Istanbul',\n",
    "    u'Tokyo',\n",
    "    u'Moscow',\n",
    "    u'New York City'\n",
    "])][['en','zh','tr','ja','ru']]"
   ]
  },
  {
   "cell_type": "code",
   "execution_count": 8,
   "metadata": {
    "collapsed": false
   },
   "outputs": [
    {
     "data": {
      "text/html": [
       "<div>\n",
       "<table border=\"1\" class=\"dataframe\">\n",
       "  <thead>\n",
       "    <tr style=\"text-align: right;\">\n",
       "      <th></th>\n",
       "      <th>en</th>\n",
       "      <th>zh</th>\n",
       "      <th>tr</th>\n",
       "      <th>ja</th>\n",
       "      <th>ru</th>\n",
       "    </tr>\n",
       "  </thead>\n",
       "  <tbody>\n",
       "    <tr>\n",
       "      <th>0</th>\n",
       "      <td>Shanghai</td>\n",
       "      <td>上海市</td>\n",
       "      <td>Şanghay</td>\n",
       "      <td>上海市</td>\n",
       "      <td>Шанхай</td>\n",
       "    </tr>\n",
       "    <tr>\n",
       "      <th>4</th>\n",
       "      <td>Istanbul</td>\n",
       "      <td>伊斯坦堡</td>\n",
       "      <td>İstanbul</td>\n",
       "      <td>イスタンブル</td>\n",
       "      <td>Стамбул</td>\n",
       "    </tr>\n",
       "    <tr>\n",
       "      <th>5</th>\n",
       "      <td>Tokyo</td>\n",
       "      <td>東京都</td>\n",
       "      <td>Tokyo</td>\n",
       "      <td>東京都</td>\n",
       "      <td>Токио</td>\n",
       "    </tr>\n",
       "    <tr>\n",
       "      <th>9</th>\n",
       "      <td>Moscow</td>\n",
       "      <td>莫斯科</td>\n",
       "      <td>Moskova</td>\n",
       "      <td>モスクワ</td>\n",
       "      <td>Москва</td>\n",
       "    </tr>\n",
       "    <tr>\n",
       "      <th>20</th>\n",
       "      <td>New York City</td>\n",
       "      <td>纽约</td>\n",
       "      <td>New York</td>\n",
       "      <td>ニューヨーク</td>\n",
       "      <td>Нью-Йорк</td>\n",
       "    </tr>\n",
       "  </tbody>\n",
       "</table>\n",
       "</div>"
      ],
      "text/plain": [
       "               en    zh        tr      ja        ru\n",
       "0        Shanghai   上海市   Şanghay     上海市    Шанхай\n",
       "4        Istanbul  伊斯坦堡  İstanbul  イスタンブル   Стамбул\n",
       "5           Tokyo   東京都     Tokyo     東京都     Токио\n",
       "9          Moscow   莫斯科   Moskova    モスクワ    Москва\n",
       "20  New York City    纽约  New York  ニューヨーク  Нью-Йорк"
      ]
     },
     "execution_count": 8,
     "metadata": {},
     "output_type": "execute_result"
    }
   ],
   "source": [
    "subset25"
   ]
  },
  {
   "cell_type": "code",
   "execution_count": 9,
   "metadata": {
    "collapsed": false
   },
   "outputs": [],
   "source": [
    "# Queue to process pages\n",
    "# Keep tuples of (title,depth)\n",
    "# Where depth is the current depth, don't go past depth\n",
    "queue = []\n",
    "queued = {}\n",
    "\n",
    "def scrapeCity(graph,lang,city,cities,max_depth=3):\n",
    "    if max_depth < 1:\n",
    "        return\n",
    "    \n",
    "    site = pwb.Site(lang, 'wikipedia')\n",
    "    \n",
    "    queue.append((pwb.Page(site, city),0))\n",
    "    queued[city] = None\n",
    "    \n",
    "    while queue:\n",
    "        page, depth = queue.pop()\n",
    "        title = page.title()\n",
    "        \n",
    "        #if depth < max_depth:\n",
    "        for p in page.linkedPages(namespaces=0):\n",
    "            if p.namespace():\n",
    "                continue\n",
    "                \n",
    "            t = p.title()\n",
    "\n",
    "            graph.add_edge(title,t)\n",
    "\n",
    "            # If we haven't queued/processed the page yet\n",
    "            # And it isn't one of the cities.\n",
    "            if t not in queued and not (t == cities).any():\n",
    "                if depth < (max_depth - 1):\n",
    "                    queued[t] = None\n",
    "                    queue.append((pwb.Page(site,t), depth+1))\n",
    "                "
   ]
  },
  {
   "cell_type": "code",
   "execution_count": null,
   "metadata": {
    "collapsed": false
   },
   "outputs": [
    {
     "name": "stderr",
     "output_type": "stream",
     "text": [
      "VERBOSE:pywiki:Found 1 wikipedia:en processes running, including this one.\n",
      "WARNING: c:\\Users\\Jeremy\\Anaconda\\lib\\site-packages\\pywikibot\\family.py:931: FamilyMaintenanceWarning: Family name wikimediachapter does not match family module name wikimedia\n",
      "WARNING:py.warnings:c:\\Users\\Jeremy\\Anaconda\\lib\\site-packages\\pywikibot\\family.py:931: FamilyMaintenanceWarning: Family name wikimediachapter does not match family module name wikimedia\n",
      "VERBOSE:pywiki:Pausing due to database lag: Waiting for 10.64.32.23: 12 seconds lagged\n",
      "Sleeping for 6.0 seconds, 2015-12-09 14:16:36\n",
      "INFO:pywiki:Sleeping for 6.0 seconds, 2015-12-09 14:16:36\n"
     ]
    }
   ],
   "source": [
    "for lang in subset25.columns:\n",
    "    queue = []\n",
    "    queued = {}\n",
    "    df = nx.DiGraph()\n",
    "    \n",
    "    for city in subset25[lang]:\n",
    "        print lang,city\n",
    "        scrapeCity(df, lang, city, subset25[lang], max_depth=2)\n",
    "        \n",
    "    nx.write_gpickle(df,'%s25.pickle' % lang)"
   ]
  },
  {
   "cell_type": "code",
   "execution_count": null,
   "metadata": {
    "collapsed": true
   },
   "outputs": [],
   "source": []
  }
 ],
 "metadata": {
  "kernelspec": {
   "display_name": "Python 2",
   "language": "python",
   "name": "python2"
  },
  "language_info": {
   "codemirror_mode": {
    "name": "ipython",
    "version": 2
   },
   "file_extension": ".py",
   "mimetype": "text/x-python",
   "name": "python",
   "nbconvert_exporter": "python",
   "pygments_lexer": "ipython2",
   "version": "2.7.10"
  }
 },
 "nbformat": 4,
 "nbformat_minor": 0
}
